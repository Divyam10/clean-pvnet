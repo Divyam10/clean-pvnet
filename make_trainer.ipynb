{
 "cells": [
  {
   "cell_type": "code",
   "execution_count": 9,
   "id": "edc9b605-5339-4b5a-a7d6-7ebc46527316",
   "metadata": {
    "tags": []
   },
   "outputs": [],
   "source": [
    "import lib.networks.pvnet.resnet50 as res50\n",
    "from lib.config import cfg\n",
    "import torch"
   ]
  },
  {
   "cell_type": "code",
   "execution_count": 4,
   "id": "56fe00ac-4826-4bce-ad42-61672f3b8e1b",
   "metadata": {
    "tags": []
   },
   "outputs": [],
   "source": [
    "from lib.networks import make_network\n",
    "from lib.train import make_trainer, make_optimizer, make_lr_scheduler, make_recorder, set_lr_scheduler\n",
    "from lib.datasets import make_data_loader\n",
    "from lib.utils.net_utils import load_model, save_model, load_network\n",
    "from lib.evaluators import make_evaluator"
   ]
  },
  {
   "cell_type": "code",
   "execution_count": 5,
   "id": "5661a33b-8c9a-49fd-89d5-35a7beadab90",
   "metadata": {
    "tags": []
   },
   "outputs": [],
   "source": [
    "network = res50.get_res_pvnet(18 , 2)"
   ]
  },
  {
   "cell_type": "code",
   "execution_count": 10,
   "id": "d1947f35-bad1-44b6-84f6-4d3bebba9f6c",
   "metadata": {
    "tags": []
   },
   "outputs": [],
   "source": [
    "def train(cfg, network):\n",
    "    if cfg.train.dataset[:4] != 'City':\n",
    "        torch.multiprocessing.set_sharing_strategy('file_system')\n",
    "    trainer = make_trainer(cfg, network)\n",
    "    optimizer = make_optimizer(cfg, network)\n",
    "    scheduler = make_lr_scheduler(cfg, optimizer)\n",
    "    recorder = make_recorder(cfg)\n",
    "    evaluator = make_evaluator(cfg)\n",
    "\n",
    "    begin_epoch = load_model(network, optimizer, scheduler, recorder, cfg.model_dir, resume=cfg.resume)\n",
    "    # set_lr_scheduler(cfg, scheduler)\n",
    "\n",
    "    train_loader = make_data_loader(cfg, is_train=True, max_iter=cfg.ep_iter)\n",
    "    val_loader = make_data_loader(cfg, is_train=False)\n",
    "    # train_loader = make_data_loader(cfg, is_train=True, max_iter=100)\n",
    "\n",
    "    for epoch in range(begin_epoch, cfg.train.epoch):\n",
    "        recorder.epoch = epoch\n",
    "        trainer.train(epoch, train_loader, optimizer, recorder)\n",
    "        scheduler.step()\n",
    "\n",
    "        if (epoch + 1) % cfg.save_ep == 0:\n",
    "            save_model(network, optimizer, scheduler, recorder, epoch, cfg.model_dir)\n",
    "\n",
    "        if (epoch + 1) % cfg.eval_ep == 0:\n",
    "            trainer.val(epoch, val_loader, evaluator, recorder)\n",
    "\n",
    "    return network"
   ]
  },
  {
   "cell_type": "code",
   "execution_count": 11,
   "id": "9c12139f-6c8b-40cd-9564-b5000e8763d4",
   "metadata": {
    "collapsed": true,
    "jupyter": {
     "outputs_hidden": true
    },
    "tags": []
   },
   "outputs": [
    {
     "name": "stdout",
     "output_type": "stream",
     "text": [
      "loading annotations into memory...\n"
     ]
    },
    {
     "ename": "FileNotFoundError",
     "evalue": "[Errno 2] No such file or directory: 'data/custom/train.json'",
     "output_type": "error",
     "traceback": [
      "\u001b[0;31m---------------------------------------------------------------------------\u001b[0m",
      "\u001b[0;31mFileNotFoundError\u001b[0m                         Traceback (most recent call last)",
      "Cell \u001b[0;32mIn[11], line 1\u001b[0m\n\u001b[0;32m----> 1\u001b[0m \u001b[43mtrain\u001b[49m\u001b[43m(\u001b[49m\u001b[43mcfg\u001b[49m\u001b[43m,\u001b[49m\u001b[43mnetwork\u001b[49m\u001b[43m)\u001b[49m\n",
      "Cell \u001b[0;32mIn[10], line 8\u001b[0m, in \u001b[0;36mtrain\u001b[0;34m(cfg, network)\u001b[0m\n\u001b[1;32m      6\u001b[0m scheduler \u001b[38;5;241m=\u001b[39m make_lr_scheduler(cfg, optimizer)\n\u001b[1;32m      7\u001b[0m recorder \u001b[38;5;241m=\u001b[39m make_recorder(cfg)\n\u001b[0;32m----> 8\u001b[0m evaluator \u001b[38;5;241m=\u001b[39m \u001b[43mmake_evaluator\u001b[49m\u001b[43m(\u001b[49m\u001b[43mcfg\u001b[49m\u001b[43m)\u001b[49m\n\u001b[1;32m     10\u001b[0m begin_epoch \u001b[38;5;241m=\u001b[39m load_model(network, optimizer, scheduler, recorder, cfg\u001b[38;5;241m.\u001b[39mmodel_dir, resume\u001b[38;5;241m=\u001b[39mcfg\u001b[38;5;241m.\u001b[39mresume)\n\u001b[1;32m     11\u001b[0m \u001b[38;5;66;03m# set_lr_scheduler(cfg, scheduler)\u001b[39;00m\n",
      "File \u001b[0;32m~/pose_est/clean-pvnet-1.10-bpnp/lib/evaluators/make_evaluator.py:19\u001b[0m, in \u001b[0;36mmake_evaluator\u001b[0;34m(cfg)\u001b[0m\n\u001b[1;32m     17\u001b[0m     \u001b[38;5;28;01mreturn\u001b[39;00m \u001b[38;5;28;01mNone\u001b[39;00m\n\u001b[1;32m     18\u001b[0m \u001b[38;5;28;01melse\u001b[39;00m:\n\u001b[0;32m---> 19\u001b[0m     \u001b[38;5;28;01mreturn\u001b[39;00m \u001b[43m_evaluator_factory\u001b[49m\u001b[43m(\u001b[49m\u001b[43mcfg\u001b[49m\u001b[43m)\u001b[49m\n",
      "File \u001b[0;32m~/pose_est/clean-pvnet-1.10-bpnp/lib/evaluators/make_evaluator.py:11\u001b[0m, in \u001b[0;36m_evaluator_factory\u001b[0;34m(cfg)\u001b[0m\n\u001b[1;32m      9\u001b[0m module \u001b[38;5;241m=\u001b[39m \u001b[38;5;124m'\u001b[39m\u001b[38;5;124m.\u001b[39m\u001b[38;5;124m'\u001b[39m\u001b[38;5;241m.\u001b[39mjoin([\u001b[38;5;124m'\u001b[39m\u001b[38;5;124mlib.evaluators\u001b[39m\u001b[38;5;124m'\u001b[39m, data_source, task])\n\u001b[1;32m     10\u001b[0m path \u001b[38;5;241m=\u001b[39m os\u001b[38;5;241m.\u001b[39mpath\u001b[38;5;241m.\u001b[39mjoin(\u001b[38;5;124m'\u001b[39m\u001b[38;5;124mlib/evaluators\u001b[39m\u001b[38;5;124m'\u001b[39m, data_source, task\u001b[38;5;241m+\u001b[39m\u001b[38;5;124m'\u001b[39m\u001b[38;5;124m.py\u001b[39m\u001b[38;5;124m'\u001b[39m)\n\u001b[0;32m---> 11\u001b[0m evaluator \u001b[38;5;241m=\u001b[39m \u001b[43mimp\u001b[49m\u001b[38;5;241;43m.\u001b[39;49m\u001b[43mload_source\u001b[49m\u001b[43m(\u001b[49m\u001b[43mmodule\u001b[49m\u001b[43m,\u001b[49m\u001b[43m \u001b[49m\u001b[43mpath\u001b[49m\u001b[43m)\u001b[49m\u001b[38;5;241;43m.\u001b[39;49m\u001b[43mEvaluator\u001b[49m\u001b[43m(\u001b[49m\u001b[43mcfg\u001b[49m\u001b[38;5;241;43m.\u001b[39;49m\u001b[43mresult_dir\u001b[49m\u001b[43m)\u001b[49m\n\u001b[1;32m     12\u001b[0m \u001b[38;5;28;01mreturn\u001b[39;00m evaluator\n",
      "File \u001b[0;32m~/pose_est/clean-pvnet-1.10-bpnp/lib/evaluators/custom/pvnet.py:22\u001b[0m, in \u001b[0;36mEvaluator.__init__\u001b[0;34m(self, result_dir)\u001b[0m\n\u001b[1;32m     20\u001b[0m args \u001b[38;5;241m=\u001b[39m DatasetCatalog\u001b[38;5;241m.\u001b[39mget(cfg\u001b[38;5;241m.\u001b[39mtest\u001b[38;5;241m.\u001b[39mdataset)\n\u001b[1;32m     21\u001b[0m \u001b[38;5;28mself\u001b[39m\u001b[38;5;241m.\u001b[39mann_file \u001b[38;5;241m=\u001b[39m args[\u001b[38;5;124m'\u001b[39m\u001b[38;5;124mann_file\u001b[39m\u001b[38;5;124m'\u001b[39m]\n\u001b[0;32m---> 22\u001b[0m \u001b[38;5;28mself\u001b[39m\u001b[38;5;241m.\u001b[39mcoco \u001b[38;5;241m=\u001b[39m \u001b[43mcoco\u001b[49m\u001b[38;5;241;43m.\u001b[39;49m\u001b[43mCOCO\u001b[49m\u001b[43m(\u001b[49m\u001b[38;5;28;43mself\u001b[39;49m\u001b[38;5;241;43m.\u001b[39;49m\u001b[43mann_file\u001b[49m\u001b[43m)\u001b[49m\n\u001b[1;32m     24\u001b[0m data_root \u001b[38;5;241m=\u001b[39m args[\u001b[38;5;124m'\u001b[39m\u001b[38;5;124mdata_root\u001b[39m\u001b[38;5;124m'\u001b[39m]\n\u001b[1;32m     25\u001b[0m model_path \u001b[38;5;241m=\u001b[39m \u001b[38;5;124m'\u001b[39m\u001b[38;5;124mdata/custom/model.ply\u001b[39m\u001b[38;5;124m'\u001b[39m\n",
      "File \u001b[0;32m~/.virtualenvs/pvnet_38/lib/python3.8/site-packages/pycocotools/coco.py:81\u001b[0m, in \u001b[0;36mCOCO.__init__\u001b[0;34m(self, annotation_file)\u001b[0m\n\u001b[1;32m     79\u001b[0m \u001b[38;5;28mprint\u001b[39m(\u001b[38;5;124m'\u001b[39m\u001b[38;5;124mloading annotations into memory...\u001b[39m\u001b[38;5;124m'\u001b[39m)\n\u001b[1;32m     80\u001b[0m tic \u001b[38;5;241m=\u001b[39m time\u001b[38;5;241m.\u001b[39mtime()\n\u001b[0;32m---> 81\u001b[0m \u001b[38;5;28;01mwith\u001b[39;00m \u001b[38;5;28;43mopen\u001b[39;49m\u001b[43m(\u001b[49m\u001b[43mannotation_file\u001b[49m\u001b[43m,\u001b[49m\u001b[43m \u001b[49m\u001b[38;5;124;43m'\u001b[39;49m\u001b[38;5;124;43mr\u001b[39;49m\u001b[38;5;124;43m'\u001b[39;49m\u001b[43m)\u001b[49m \u001b[38;5;28;01mas\u001b[39;00m f:\n\u001b[1;32m     82\u001b[0m     dataset \u001b[38;5;241m=\u001b[39m json\u001b[38;5;241m.\u001b[39mload(f)\n\u001b[1;32m     83\u001b[0m \u001b[38;5;28;01massert\u001b[39;00m \u001b[38;5;28mtype\u001b[39m(dataset)\u001b[38;5;241m==\u001b[39m\u001b[38;5;28mdict\u001b[39m, \u001b[38;5;124m'\u001b[39m\u001b[38;5;124mannotation file format \u001b[39m\u001b[38;5;132;01m{}\u001b[39;00m\u001b[38;5;124m not supported\u001b[39m\u001b[38;5;124m'\u001b[39m\u001b[38;5;241m.\u001b[39mformat(\u001b[38;5;28mtype\u001b[39m(dataset))\n",
      "\u001b[0;31mFileNotFoundError\u001b[0m: [Errno 2] No such file or directory: 'data/custom/train.json'"
     ]
    }
   ],
   "source": [
    "train(cfg,network)"
   ]
  },
  {
   "cell_type": "code",
   "execution_count": 1,
   "id": "63ab7992-d318-4864-9a31-aaae5cda4b3e",
   "metadata": {
    "tags": []
   },
   "outputs": [],
   "source": [
    "import BPnP"
   ]
  },
  {
   "cell_type": "code",
   "execution_count": null,
   "id": "fc38ea62-16db-4cbb-868e-54ca8340a345",
   "metadata": {},
   "outputs": [],
   "source": []
  }
 ],
 "metadata": {
  "kernelspec": {
   "display_name": "pvnet_38",
   "language": "python",
   "name": "pvnet_38"
  },
  "language_info": {
   "codemirror_mode": {
    "name": "ipython",
    "version": 3
   },
   "file_extension": ".py",
   "mimetype": "text/x-python",
   "name": "python",
   "nbconvert_exporter": "python",
   "pygments_lexer": "ipython3",
   "version": "3.8.10"
  }
 },
 "nbformat": 4,
 "nbformat_minor": 5
}
